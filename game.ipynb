{
 "cells": [
  {
   "cell_type": "code",
   "execution_count": 284,
   "metadata": {},
   "outputs": [],
   "source": [
    "import numpy as np\n",
    "import math\n",
    "import cv2  \n",
    "import numpy as np\n",
    "import os\n",
    "import glob"
   ]
  },
  {
   "cell_type": "code",
   "execution_count": 285,
   "metadata": {},
   "outputs": [],
   "source": [
    "def checkValidState(state):\n",
    "    if len(state)<16:\n",
    "        state=state+\"\".join([\"O\" for i in range(16-len(state))])\n",
    "    s=np.array(list(state))\n",
    "    c1=len(np.where(s==\"F\")[0])\n",
    "    c2=len(np.where(s==\"S\")[0])\n",
    "    if c1-c2==0 or c1-c2==1:\n",
    "        return(True)\n",
    "    else:\n",
    "        return(False)"
   ]
  },
  {
   "cell_type": "code",
   "execution_count": 286,
   "metadata": {},
   "outputs": [],
   "source": [
    "def searchSubstring(state,check):\n",
    "    b=np.array(list(state))\n",
    "    substring=\"\".join(b[check])\n",
    "    return(substring)\n",
    "    "
   ]
  },
  {
   "cell_type": "code",
   "execution_count": 287,
   "metadata": {},
   "outputs": [],
   "source": [
    "def getWinningWaysOld():\n",
    "    winningWays=[[0,1,2],[1,2,3],[4,5,6],[5,6,7],[8,9,10],[9,10,11]]\n",
    "    winningWays=winningWays+[[12,13,14],[13,14,15],[0,4,8],[4,8,12],[1,5,9],[5,9,13]]\n",
    "    winningWays=winningWays+[[2,6,10],[6,10,14],[3,7,11],[7,11,15]]\n",
    "    winningWays=winningWays+[[0,5,10],[5,10,15],[3,6,9],[6,9,12],[2,5,8],[7,10,13]]\n",
    "    winningWays=winningWays+[[1,6,11],[4,9,14]]\n",
    "    return(winningWays)\n",
    "\n",
    "def getWinningWays():\n",
    "    winningWays=[[0,1,2,3],[4,5,6,7],[8,9,10,11],[12,13,14,15]]\n",
    "    winningWays=winningWays+[[0,4,8,12],[1,5,9,13],[2,6,10,14],[3,7,11,15]]\n",
    "    winningWays=winningWays+[[0,5,10,15],[3,6,9,12]]\n",
    "    winningWays=winningWays+[[1,6,11],[4,9,14]]\n",
    "    winningWays=winningWays+[[2,5,8],[7,10,13]]\n",
    "    winningWays=winningWays+[[1,4],[2,7],[8,13],[11,14]]\n",
    "    return(winningWays)"
   ]
  },
  {
   "cell_type": "code",
   "execution_count": 288,
   "metadata": {},
   "outputs": [],
   "source": [
    "winning_ways=getWinningWays()"
   ]
  },
  {
   "cell_type": "code",
   "execution_count": 289,
   "metadata": {},
   "outputs": [],
   "source": [
    "def checkStateStatus(state):\n",
    "    \n",
    "    if len(state)<16:\n",
    "        state=state+\"\".join([\"O\" for i in range(16-len(state))])\n",
    "    if not checkValidState(state):\n",
    "        print(\"Not a valid state\")\n",
    "        print(\"State is\\t\"+state)\n",
    "        return\n",
    "    global winning_ways\n",
    "    for check in winning_ways:\n",
    "            ans=searchSubstring(state,check)\n",
    "            \n",
    "            if len(check)==3:\n",
    "                if ans==\"FFF\" or ans==\"SSS\":\n",
    "                    return(\"WIN\")\n",
    "            if len(check)==4:\n",
    "                if ans==\"FFFF\" or ans==\"SSSS\":\n",
    "                    return(\"WIN\")\n",
    "            if len(check)==2:\n",
    "                if ans==\"FF\" or ans==\"SS\":\n",
    "                    return(\"WIN\")\n",
    "    if \"O\" not in np.array(list(state)):\n",
    "        return(\"DRAW\")\n",
    "    return(\"ON\")"
   ]
  },
  {
   "cell_type": "code",
   "execution_count": 290,
   "metadata": {},
   "outputs": [],
   "source": [
    "def whoseTurn(s):\n",
    "    b=np.array(list(s))\n",
    "    c1=len(np.where(b==\"F\")[0])\n",
    "    c2=len(np.where(b==\"S\")[0])\n",
    "    if c1==c2:\n",
    "        return(\"F\")\n",
    "    if c1-c2==1:\n",
    "        return(\"S\")\n",
    "    "
   ]
  },
  {
   "cell_type": "code",
   "execution_count": 291,
   "metadata": {},
   "outputs": [],
   "source": [
    "def nextMove(state):\n",
    "    if len(state)<16:\n",
    "        state=state+\"\".join([\"O\" for i in range(16-len(state))])\n",
    "    b=np.array(list(state))\n",
    "    player=whoseTurn(state)\n",
    "    ind=np.where(b==\"O\")[0]\n",
    "    arr=[]\n",
    "    for i in ind:\n",
    "        b=np.array(list(state))\n",
    "        if player==\"F\":\n",
    "            b[i]=\"F\"\n",
    "        if player==\"S\":\n",
    "            b[i]=\"S\"\n",
    "        arr.append(\"\".join(b))\n",
    "    return(arr)\n",
    "    "
   ]
  },
  {
   "cell_type": "code",
   "execution_count": 329,
   "metadata": {},
   "outputs": [],
   "source": [
    "def save(state,title=\"\"):\n",
    "    \n",
    "    if len(state)<16:\n",
    "        state=state+\"\".join([\"O\" for i in range(16-len(state))])\n",
    "    if not checkValidState(state):\n",
    "        print(\"Not a valid state in save\")\n",
    "        return\n",
    "    if len(title)==0:\n",
    "        title=state\n",
    "    img = np.zeros((800,800,3), np.uint8)\n",
    "    b=np.array(list(state))\n",
    "    cv2.rectangle(img, (0,0), (800,800), (255,255,255), -1)\n",
    "    for i in range(16):\n",
    "        if b[i]!=\"O\":\n",
    "            column=i//4\n",
    "            row=i%4\n",
    "            \n",
    "            if b[i]==\"F\":\n",
    "                color=(0,255,0)\n",
    "                cv2.circle(img, (200*row+100,200*column+100), 80,color, -1)\n",
    "            else:\n",
    "                color=(0,0,255)\n",
    "                cv2.circle(img, (200*row+100,200*column+100), 80,color, -1)\n",
    "                #cv2.rectangle(img, (200*row,200*column), (200*row+200,200*column+200), color, -1)\n",
    "    img=drawLines(img)\n",
    "    cv2.imwrite(title+\".png\",img)"
   ]
  },
  {
   "cell_type": "code",
   "execution_count": 293,
   "metadata": {},
   "outputs": [],
   "source": [
    "def drawLines(img):\n",
    "    for i in [0,200,400,600,800]:\n",
    "        cv2.line(img,(i,0),(i,800),(0,0,0),8)\n",
    "        cv2.line(img,(0,i),(800,i),(0,0,0),8)\n",
    "    return(img)"
   ]
  },
  {
   "cell_type": "code",
   "execution_count": 309,
   "metadata": {},
   "outputs": [],
   "source": [
    "def play():\n",
    "    state=\"\"\n",
    "    my_turn=True\n",
    "    step=0\n",
    "    removePngs(\"GUR\")\n",
    "    while 1:\n",
    "        title=str(step)+\"_\"+state\n",
    "        print(title)\n",
    "        title=\"GUR@\"+str(step)\n",
    "        save(state,title=title)\n",
    "        if checkStateStatus(state)==\"WIN\":\n",
    "            if my_turn:\n",
    "                print(\"Second player (RED) has won\")\n",
    "            else:\n",
    "                print(\"First player (GREEN) has won\")\n",
    "            break\n",
    "        if checkStateStatus(state)==\"DRAW\":\n",
    "            print(\"Its a draw\")\n",
    "            break\n",
    "        if not my_turn:\n",
    "            state=getBestMove(state)\n",
    "        else:\n",
    "            #state=getRandomMove(state)\n",
    "            state=getBestMove(state)\n",
    "        step=step+1\n",
    "        my_turn=not my_turn\n",
    "    makeAnimation(\"GUR\",filename=\"PLAY\")\n",
    "    #removePngs(\"GUR\")"
   ]
  },
  {
   "cell_type": "code",
   "execution_count": 295,
   "metadata": {},
   "outputs": [],
   "source": [
    "def getBestMove(s):\n",
    "    if len(s)<16:\n",
    "        s=s+\"\".join([\"O\" for i in range(16-len(s))])\n",
    "    ltw=leadingToWin(s)\n",
    "    if ltw!=\"NO\":\n",
    "        return(ltw)\n",
    "    else:\n",
    "        current_options=nextMove(s)\n",
    "        np.random.shuffle(current_options)\n",
    "        for state in current_options:\n",
    "            if leadingToWin(state)==\"NO\":\n",
    "                return(state)\n",
    "        print(\"No Way to Win this\")\n",
    "        \n",
    "        return(getRandomMove(s))"
   ]
  },
  {
   "cell_type": "code",
   "execution_count": 296,
   "metadata": {},
   "outputs": [],
   "source": [
    "a=[1,2,3,4]\n",
    "np.random.shuffle(a)\n"
   ]
  },
  {
   "cell_type": "code",
   "execution_count": 297,
   "metadata": {},
   "outputs": [],
   "source": [
    "def leadingToWin(s):\n",
    "    if len(s)<16:\n",
    "        s=s+\"\".join([\"O\" for i in range(16-len(s))])\n",
    "    \n",
    "    availableMoves=nextMove(s)\n",
    "    for state in availableMoves:\n",
    "        if checkStateStatus(state)==\"WIN\":\n",
    "            return(state)\n",
    "    return(\"NO\")"
   ]
  },
  {
   "cell_type": "code",
   "execution_count": 298,
   "metadata": {},
   "outputs": [],
   "source": [
    "def getRandomMove(s):\n",
    "    availableMoves=nextMove(s)\n",
    "    return(np.random.choice(availableMoves))"
   ]
  },
  {
   "cell_type": "code",
   "execution_count": 299,
   "metadata": {},
   "outputs": [],
   "source": [
    "def makeAnimation(title,filename=\"\",wd=\"\",extension=\"png\",loop=True,delay=20):\n",
    "     import imageio\n",
    "     if len(filename)==0:\n",
    "         filename=title\n",
    "     print(\"Readying animation...\", end=' ')\n",
    "     import webbrowser\n",
    "     if len(wd)==0:\n",
    "            cwd = os.getcwd()\n",
    "     else:\n",
    "            #cwd=os.getcwd()+\"/\"+wd\n",
    "             cwd=wd\n",
    "     files=glob.glob(cwd+\"/\"+title+\"@*.\"+extension)\n",
    "     files.sort(key=os.path.getmtime)\n",
    "     #files=[cwd+\"/\"+\"b_\"+str(i)+\".jpeg\" for i in range(37)]\n",
    "     images=[]\n",
    "     for file in files:\n",
    "         images.append(imageio.imread(file))\n",
    "     imageio.mimsave(filename+\".gif\", images,duration=0.75)\n"
   ]
  },
  {
   "cell_type": "code",
   "execution_count": 300,
   "metadata": {},
   "outputs": [],
   "source": [
    "def removePngs(title):\n",
    "    print(\"Deleting pngs and gifs...\", end=' ')\n",
    "    command='rm -rf '+title+\"@*.png \"\n",
    "    os.system(command)\n",
    "    command='rm -rf '+title+\".gif \"\n",
    "    os.system(command)\n",
    "    print(\"done.\")\n"
   ]
  },
  {
   "cell_type": "code",
   "execution_count": 338,
   "metadata": {},
   "outputs": [
    {
     "name": "stdout",
     "output_type": "stream",
     "text": [
      "Deleting pngs and gifs... done.\n",
      "0_\n",
      "1_FOOOOOOOOOOOOOOO\n",
      "2_FOOOOOOSOOOOOOOO\n",
      "3_FOFOOOOSOOOOOOOO\n",
      "4_FOFOOOOSOOOSOOOO\n",
      "5_FOFOOOOSOOOSOOFO\n",
      "6_FOFOOSOSOOOSOOFO\n",
      "7_FOFOFSOSOOOSOOFO\n",
      "No Way to Win this\n",
      "8_FOFOFSOSOOOSSOFO\n",
      "9_FFFOFSOSOOOSSOFO\n",
      "First player (GREEN) has won\n",
      "Readying animation... "
     ]
    }
   ],
   "source": [
    "play()"
   ]
  },
  {
   "cell_type": "code",
   "execution_count": 317,
   "metadata": {},
   "outputs": [],
   "source": [
    "def diagonize(s):\n",
    "    save(s)\n",
    "    arr=nextMove(s)\n",
    "    a=[leadingToWin(state) for state in arr]\n",
    "    print(a)"
   ]
  },
  {
   "cell_type": "code",
   "execution_count": null,
   "metadata": {},
   "outputs": [],
   "source": []
  }
 ],
 "metadata": {
  "kernelspec": {
   "display_name": "Python 3",
   "language": "python",
   "name": "python3"
  },
  "language_info": {
   "codemirror_mode": {
    "name": "ipython",
    "version": 3
   },
   "file_extension": ".py",
   "mimetype": "text/x-python",
   "name": "python",
   "nbconvert_exporter": "python",
   "pygments_lexer": "ipython3",
   "version": "3.7.7"
  }
 },
 "nbformat": 4,
 "nbformat_minor": 4
}
